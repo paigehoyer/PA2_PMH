{
 "cells": [
  {
   "cell_type": "markdown",
   "id": "ee7725bb-806b-433c-baa9-025c4d3e2c81",
   "metadata": {
    "tags": []
   },
   "source": [
    "# Programming Assignment 2\n",
    "---\n",
    "**Author:**   Paige Hoyer\n",
    "**Version:** 1.0  \n",
    "**Semester:** Spring 2024 \n",
    "\n",
    "This *notebook* contains my solution(s) to **Programming Assignment 2**\n",
    "\n",
    "- Problem 1: Printing Numbers.\n",
    "- Problem 2: Age Status.\n",
    "- Problem 3: Age Status v2.\n",
    "- Problem 4: Calculating Pi."
   ]
  },
  {
   "cell_type": "markdown",
   "id": "9bf4f73a-3095-41e2-bfe5-67a344ad4337",
   "metadata": {},
   "source": [
    "Problem 1: Printing Numbers"
   ]
  },
  {
   "cell_type": "code",
   "execution_count": null,
   "id": "b6d28e54-e8fe-4b2b-b377-948963385c21",
   "metadata": {},
   "outputs": [],
   "source": []
  }
 ],
 "metadata": {
  "kernelspec": {
   "display_name": "Python 3 (ipykernel)",
   "language": "python",
   "name": "python3"
  },
  "language_info": {
   "codemirror_mode": {
    "name": "ipython",
    "version": 3
   },
   "file_extension": ".py",
   "mimetype": "text/x-python",
   "name": "python",
   "nbconvert_exporter": "python",
   "pygments_lexer": "ipython3",
   "version": "3.11.5"
  }
 },
 "nbformat": 4,
 "nbformat_minor": 5
}
